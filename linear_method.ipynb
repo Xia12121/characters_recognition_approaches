{
 "cells": [
  {
   "cell_type": "code",
   "execution_count": 6,
   "id": "95a34e49-7939-4fb9-bebe-e4c13759ef48",
   "metadata": {},
   "outputs": [
    {
     "name": "stdout",
     "output_type": "stream",
     "text": [
      "Using cuda device\n",
      "Epoch 1, Loss: 0.4750751852989197\n",
      "Epoch 2, Loss: 0.09144492447376251\n",
      "Epoch 3, Loss: 0.027421334758400917\n",
      "Epoch 4, Loss: 0.027406424283981323\n",
      "Epoch 5, Loss: 0.12764157354831696\n",
      "Epoch 6, Loss: 0.06746029853820801\n",
      "Epoch 7, Loss: 0.04946756735444069\n",
      "Epoch 8, Loss: 0.038012102246284485\n",
      "Epoch 9, Loss: 0.040114402770996094\n",
      "Epoch 10, Loss: 0.07232753187417984\n"
     ]
    },
    {
     "data": {
      "image/png": "[encoded data removed]",
      "text/plain": [
       "<Figure size 1500x300 with 5 Axes>"
      ]
     },
     "metadata": {},
     "output_type": "display_data"
    },
    {
     "name": "stdout",
     "output_type": "stream",
     "text": [
      "Accuracy of the model on the 10000 test images: 97.8125%\n"
     ]
    }
   ],
   "source": [
    "import torch\n",
    "import torchvision\n",
    "import torchvision.transforms as transforms\n",
    "from torch import nn, optim\n",
    "import matplotlib.pyplot as plt\n",
    "import numpy as np\n",
    "\n",
    "# 数据加载与转换\n",
    "transform = transforms.Compose([transforms.ToTensor(),\n",
    "                                transforms.Normalize((0.5,), (0.5,))])\n",
    "\n",
    "train_set = torchvision.datasets.MNIST(root='./data', train=True, download=True, transform=transform)\n",
    "test_set = torchvision.datasets.MNIST(root='./data', train=False, download=True, transform=transform)\n",
    "\n",
    "train_loader = torch.utils.data.DataLoader(train_set, batch_size=64, shuffle=True)\n",
    "test_loader = torch.utils.data.DataLoader(test_set, batch_size=64, shuffle=False)\n",
    "\n",
    "# 构建模型\n",
    "class Net(nn.Module):\n",
    "    def __init__(self):\n",
    "        super(Net, self).__init__()\n",
    "        self.fc1 = nn.Linear(28*28, 128)\n",
    "        self.fc2 = nn.Linear(128, 10)\n",
    "\n",
    "    def forward(self, x):\n",
    "        x = x.view(-1, 28*28)\n",
    "        x = torch.relu(self.fc1(x))\n",
    "        x = self.fc2(x)\n",
    "        return torch.log_softmax(x, dim=1)\n",
    "\n",
    "# 检查 CUDA 是否可用，并将模型移到 GPU\n",
    "device = torch.device(\"cuda\" if torch.cuda.is_available() else \"cpu\")\n",
    "print(f\"Using {device} device\")\n",
    "model = Net().to(device)\n",
    "criterion = nn.CrossEntropyLoss()\n",
    "optimizer = optim.Adam(model.parameters(), lr=0.001)\n",
    "\n",
    "# 训练模型\n",
    "for epoch in range(10):\n",
    "    for images, labels in train_loader:\n",
    "        images, labels = images.to(device), labels.to(device)\n",
    "        optimizer.zero_grad()\n",
    "        output = model(images)\n",
    "        loss = criterion(output, labels)\n",
    "        loss.backward()\n",
    "        optimizer.step()\n",
    "\n",
    "    print(f\"Epoch {epoch + 1}, Loss: {loss.item()}\")\n",
    "\n",
    "# 评估模型\n",
    "model.eval()\n",
    "correct = 0\n",
    "total = 0\n",
    "images_to_show = 5\n",
    "fig, ax = plt.subplots(1, images_to_show, figsize=(15, 3))\n",
    "\n",
    "for batch_idx, (images, labels) in enumerate(test_loader):\n",
    "    images, labels = images.to(device), labels.to(device)\n",
    "    outputs = model(images)\n",
    "    _, predicted = torch.max(outputs.data, 1)\n",
    "    total += labels.size(0)\n",
    "    correct += (predicted == labels).sum().item()\n",
    "\n",
    "    # 显示测试图像和预测结果\n",
    "    if batch_idx < images_to_show:\n",
    "        ax[batch_idx].imshow(images[0].cpu().view(28, 28), cmap='gray')\n",
    "        ax[batch_idx].set_title(f'Predicted: {predicted[0]}')\n",
    "        ax[batch_idx].axis('off')\n",
    "\n",
    "    if batch_idx >= images_to_show - 1:\n",
    "        break\n",
    "\n",
    "plt.show()\n",
    "print(f'Accuracy of the model on the 10000 test images: {100 * correct / total}%')\n"
   ]
  },
  {
   "cell_type": "code",
   "execution_count": null,
   "id": "7c32d625-2e1b-46e7-b7d7-07853440cd78",
   "metadata": {},
   "outputs": [],
   "source": []
  }
 ],
 "metadata": {
  "kernelspec": {
   "display_name": "Python (FYP)",
   "language": "python",
   "name": "fyp"
  },
  "language_info": {
   "codemirror_mode": {
    "name": "ipython",
    "version": 3
   },
   "file_extension": ".py",
   "mimetype": "text/x-python",
   "name": "python",
   "nbconvert_exporter": "python",
   "pygments_lexer": "ipython3",
   "version": "3.10.14"
  }
 },
 "nbformat": 4,
 "nbformat_minor": 5
}
